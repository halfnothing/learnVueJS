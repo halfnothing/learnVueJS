{
 "cells": [
  {
   "cell_type": "markdown",
   "metadata": {},
   "source": [
    "# Необходимо предсказывать пол клиента, основываясь на его транзакционных исторических данных. \n"
   ]
  },
  {
   "cell_type": "code",
   "execution_count": 1,
   "metadata": {
    "ExecuteTime": {
     "end_time": "2019-03-05T17:34:52.054851Z",
     "start_time": "2019-03-05T17:34:51.515762Z"
    }
   },
   "outputs": [
    {
     "output_type": "stream",
     "name": "stderr",
     "text": [
      "C:\\Python\\Python36\\lib\\site-packages\\dask\\dataframe\\utils.py:13: FutureWarning: pandas.util.testing is deprecated. Use the functions in the public API at pandas.testing instead.\n",
      "  import pandas.util.testing as tm\n",
      "ipykernel_launcher:12: TqdmDeprecationWarning: This function will be removed in tqdm==5.0.0\n",
      "Please use `tqdm.notebook.*` instead of `tqdm._tqdm_notebook.*`\n"
     ]
    }
   ],
   "source": [
    "import pandas as pd\n",
    "import numpy as np\n",
    "import xgboost as xgb\n",
    "import re\n",
    "import matplotlib.pyplot as plt\n",
    "\n",
    "from sklearn.model_selection import GridSearchCV\n",
    "from sklearn.svm import SVC\n",
    "from sklearn.model_selection import cross_val_score\n",
    "from sklearn.model_selection import StratifiedKFold\n",
    "from sklearn.model_selection import KFold\n",
    "from tqdm._tqdm_notebook import tqdm_notebook\n",
    "from warnings import filterwarnings\n",
    "from sklearn.ensemble import AdaBoostClassifier\n",
    "from sklearn import metrics\n",
    "from sklearn.neighbors import KNeighborsClassifier\n",
    "from sklearn.metrics import auc, roc_curve\n",
    "from sklearn.model_selection import GridSearchCV\n",
    "from xgboost.sklearn import XGBClassifier\n",
    "\n",
    "\n",
    "%matplotlib inline\n",
    "filterwarnings('ignore')"
   ]
  },
  {
   "cell_type": "code",
   "execution_count": null,
   "metadata": {
    "ExecuteTime": {
     "end_time": "2019-03-05T17:34:58.314241Z",
     "start_time": "2019-03-05T17:34:52.056205Z"
    },
    "scrolled": true
   },
   "outputs": [],
   "source": [
    "# читаем данные\n",
    "tr_mcc_codes = pd.read_csv('data/tr_mcc_codes.csv', sep=';', index_col='mcc_code')\n",
    "tr_types = pd.read_csv('data/tr_types.csv', sep=';', index_col='tr_type')\n",
    "\n",
    "transactions = pd.read_csv('data/transactions.csv', index_col='customer_id')\n",
    "transactions.join(tr_mcc_codes, how='inner')\n",
    "gender_train = pd.read_csv('data/gender_train.csv', index_col='customer_id')\n",
    "gender_test = pd.read_csv('data/gender_test.csv', index_col='customer_id')\n",
    "transactions_train = transactions.join(gender_train, how='inner')\n",
    "transactions_test = transactions.join(gender_test, how='inner')\n",
    "\n",
    "\n",
    "del transactions"
   ]
  },
  {
   "cell_type": "code",
   "execution_count": 20,
   "metadata": {},
   "outputs": [
    {
     "data": {
      "text/html": [
       "<div>\n",
       "<style scoped>\n",
       "    .dataframe tbody tr th:only-of-type {\n",
       "        vertical-align: middle;\n",
       "    }\n",
       "\n",
       "    .dataframe tbody tr th {\n",
       "        vertical-align: top;\n",
       "    }\n",
       "\n",
       "    .dataframe thead th {\n",
       "        text-align: right;\n",
       "    }\n",
       "</style>\n",
       "<table border=\"1\" class=\"dataframe\">\n",
       "  <thead>\n",
       "    <tr style=\"text-align: right;\">\n",
       "      <th></th>\n",
       "      <th>tr_datetime</th>\n",
       "      <th>mcc_code</th>\n",
       "      <th>tr_type</th>\n",
       "      <th>amount</th>\n",
       "      <th>term_id</th>\n",
       "      <th>gender</th>\n",
       "    </tr>\n",
       "    <tr>\n",
       "      <th>customer_id</th>\n",
       "      <th></th>\n",
       "      <th></th>\n",
       "      <th></th>\n",
       "      <th></th>\n",
       "      <th></th>\n",
       "      <th></th>\n",
       "    </tr>\n",
       "  </thead>\n",
       "  <tbody>\n",
       "    <tr>\n",
       "      <th>22899</th>\n",
       "      <td>1 15:26:45</td>\n",
       "      <td>4814</td>\n",
       "      <td>1030</td>\n",
       "      <td>-4491.83</td>\n",
       "      <td>NaN</td>\n",
       "      <td>1</td>\n",
       "    </tr>\n",
       "    <tr>\n",
       "      <th>22899</th>\n",
       "      <td>2 20:52:48</td>\n",
       "      <td>4814</td>\n",
       "      <td>1030</td>\n",
       "      <td>-2245.92</td>\n",
       "      <td>NaN</td>\n",
       "      <td>1</td>\n",
       "    </tr>\n",
       "    <tr>\n",
       "      <th>22899</th>\n",
       "      <td>5 18:52:19</td>\n",
       "      <td>6011</td>\n",
       "      <td>2010</td>\n",
       "      <td>-44918.32</td>\n",
       "      <td>NaN</td>\n",
       "      <td>1</td>\n",
       "    </tr>\n",
       "    <tr>\n",
       "      <th>22899</th>\n",
       "      <td>6 12:28:22</td>\n",
       "      <td>6011</td>\n",
       "      <td>2010</td>\n",
       "      <td>-150476.36</td>\n",
       "      <td>NaN</td>\n",
       "      <td>1</td>\n",
       "    </tr>\n",
       "    <tr>\n",
       "      <th>22899</th>\n",
       "      <td>28 10:41:01</td>\n",
       "      <td>6010</td>\n",
       "      <td>7030</td>\n",
       "      <td>33688.74</td>\n",
       "      <td>NaN</td>\n",
       "      <td>1</td>\n",
       "    </tr>\n",
       "    <tr>\n",
       "      <th>...</th>\n",
       "      <td>...</td>\n",
       "      <td>...</td>\n",
       "      <td>...</td>\n",
       "      <td>...</td>\n",
       "      <td>...</td>\n",
       "      <td>...</td>\n",
       "    </tr>\n",
       "    <tr>\n",
       "      <th>99999680</th>\n",
       "      <td>444 00:00:00</td>\n",
       "      <td>5411</td>\n",
       "      <td>1110</td>\n",
       "      <td>-5659.71</td>\n",
       "      <td>31190432</td>\n",
       "      <td>1</td>\n",
       "    </tr>\n",
       "    <tr>\n",
       "      <th>99999680</th>\n",
       "      <td>444 00:00:00</td>\n",
       "      <td>6011</td>\n",
       "      <td>2110</td>\n",
       "      <td>-134754.95</td>\n",
       "      <td>406826</td>\n",
       "      <td>1</td>\n",
       "    </tr>\n",
       "    <tr>\n",
       "      <th>99999680</th>\n",
       "      <td>446 00:00:00</td>\n",
       "      <td>5541</td>\n",
       "      <td>1110</td>\n",
       "      <td>-11229.58</td>\n",
       "      <td>J038003</td>\n",
       "      <td>1</td>\n",
       "    </tr>\n",
       "    <tr>\n",
       "      <th>99999680</th>\n",
       "      <td>451 09:56:17</td>\n",
       "      <td>6010</td>\n",
       "      <td>7070</td>\n",
       "      <td>1122.96</td>\n",
       "      <td>945022</td>\n",
       "      <td>1</td>\n",
       "    </tr>\n",
       "    <tr>\n",
       "      <th>99999680</th>\n",
       "      <td>456 06:28:00</td>\n",
       "      <td>4814</td>\n",
       "      <td>1030</td>\n",
       "      <td>-6737.75</td>\n",
       "      <td>171703</td>\n",
       "      <td>1</td>\n",
       "    </tr>\n",
       "  </tbody>\n",
       "</table>\n",
       "<p>3751083 rows × 6 columns</p>\n",
       "</div>"
      ],
      "text/plain": [
       "              tr_datetime  mcc_code  tr_type     amount   term_id  gender\n",
       "customer_id                                                              \n",
       "22899          1 15:26:45      4814     1030   -4491.83       NaN       1\n",
       "22899          2 20:52:48      4814     1030   -2245.92       NaN       1\n",
       "22899          5 18:52:19      6011     2010  -44918.32       NaN       1\n",
       "22899          6 12:28:22      6011     2010 -150476.36       NaN       1\n",
       "22899         28 10:41:01      6010     7030   33688.74       NaN       1\n",
       "...                   ...       ...      ...        ...       ...     ...\n",
       "99999680     444 00:00:00      5411     1110   -5659.71  31190432       1\n",
       "99999680     444 00:00:00      6011     2110 -134754.95    406826       1\n",
       "99999680     446 00:00:00      5541     1110  -11229.58   J038003       1\n",
       "99999680     451 09:56:17      6010     7070    1122.96    945022       1\n",
       "99999680     456 06:28:00      4814     1030   -6737.75    171703       1\n",
       "\n",
       "[3751083 rows x 6 columns]"
      ]
     },
     "execution_count": 20,
     "metadata": {},
     "output_type": "execute_result"
    }
   ],
   "source": [
    "transactions_train"
   ]
  },
  {
   "cell_type": "code",
   "execution_count": 3,
   "metadata": {
    "ExecuteTime": {
     "end_time": "2019-03-05T17:34:58.354996Z",
     "start_time": "2019-03-05T17:34:58.315591Z"
    }
   },
   "outputs": [],
   "source": [
    "# Функции для классификатора \n",
    "# оценки его результатов и построение прогноза на тестах\n",
    "\n",
    "\n",
    "def cv_score(params, train, y_true):\n",
    "    '''\n",
    "    Cross-validation score\n",
    "    (среднее значение метрики ROC AUC на тренировочных данных)\n",
    "    '''\n",
    "    cv_res=xgb.cv(params, xgb.DMatrix(train, y_true),\n",
    "                  early_stopping_rounds=10, maximize=True, \n",
    "                  num_boost_round=10000, nfold=5, stratified=True)\n",
    "    index_argmax = cv_res['test-auc-mean'].argmax()\n",
    "    print('Cross-validation, ROC AUC: {:.3f}+-{:.3f}, Trees: {}'.format(cv_res.loc[index_argmax]['test-auc-mean'],\n",
    "                                                                        cv_res.loc[index_argmax]['test-auc-std'],\n",
    "                                                                        index_argmax))\n",
    "\n",
    "\n",
    "def fit_predict(params, num_trees, train, test, target):\n",
    "    '''\n",
    "    Построение модели + возврат результатов классификации тестовых пользователей\n",
    "    '''\n",
    "    params['learning_rate'] = params['eta']\n",
    "    clf = xgb.train(params, xgb.DMatrix(train.values, target, feature_names=list(train.columns)), \n",
    "                    num_boost_round=num_trees, maximize=True)\n",
    "    y_pred = clf.predict(xgb.DMatrix(test.values, feature_names=list(train.columns)))\n",
    "    submission = pd.DataFrame(index=test.index, data=y_pred, columns=['probability'])\n",
    "    return clf, submission\n",
    "\n",
    "\n",
    "def draw_feature_importances(clf, top_k=10):\n",
    "    '''\n",
    "    Отрисовка важности переменных. Важность переменной - количество разбиений выборки, \n",
    "    в которых участвует данная переменная. Чем больше - тем она, вероятно, лучше \n",
    "    '''\n",
    "    plt.figure(figsize=(10, 10))\n",
    "    \n",
    "    importances = dict(sorted(clf.get_score().items(), key=lambda x: x[1])[-top_k:])\n",
    "    y_pos = np.arange(len(importances))\n",
    "    \n",
    "    plt.barh(y_pos, list(importances.values()), align='center', color='green')\n",
    "    plt.yticks(y_pos, importances.keys(), fontsize=12)\n",
    "    plt.xticks(fontsize=12)\n",
    "    plt.xlabel('Feature importance', fontsize=15)\n",
    "    plt.title('Features importances, Sberbank Gender Prediction', fontsize=18)\n",
    "    plt.ylim(-0.5, len(importances) - 0.5)\n",
    "    plt.show()"
   ]
  },
  {
   "cell_type": "code",
   "execution_count": 4,
   "metadata": {},
   "outputs": [],
   "source": [
    "def fit_predict_SVC(train, test, target):\n",
    "    params['learning_rate'] = params['eta']\n",
    "    svc=SVC(probability=True, kernel='linear')\n",
    "    abc = AdaBoostClassifier(base_estimator=svc, n_estimators=50, learning_rate=1)\n",
    "    model = abc.fit(train.fillna(0).to_numpy(dtype='float64'), target)\n",
    "    \n",
    "    y_pred = model.predict(test)\n",
    "    submission = pd.DataFrame(index=test.index, data=y_pred, columns=['probability'])\n",
    "    return clf, submission"
   ]
  },
  {
   "cell_type": "code",
   "execution_count": 5,
   "metadata": {},
   "outputs": [],
   "source": [
    "def cv_score_model(params, train, y_true):\n",
    "    cv_res=xgb.cv(params, xgb.DMatrix(train, y_true),\n",
    "                  early_stopping_rounds=50, maximize=True, \n",
    "                  num_boost_round=10000, nfold=5, stratified=True)\n",
    "    index_argmax = cv_res['test-auc-mean'].argmax()\n",
    "    print('Cross-validation, ROC AUC: {:.3f}+-{:.3f}, Trees: {}'.format(cv_res.loc[index_argmax]['test-auc-mean'],\n",
    "                                                                        cv_res.loc[index_argmax]['test-auc-std'],\n",
    "                                                                        index_argmax))"
   ]
  },
  {
   "cell_type": "markdown",
   "metadata": {},
   "source": [
    "Начнём с того, что сформируем базовые переменные по каждому пользователю. На этом этапе будем использовать стандартные агрегации, посчитанные на расходах и приходах клиента:\n",
    "- минимум\n",
    "- максимум\n",
    "- среднее\n",
    "- медиана\n",
    "- среднеквадратичное отклонение\n",
    "- количество\n",
    "\n",
    "Также параметры модели выберем стандартные, запишем их в словарь params, и будем использовать для дальнейшего построения модели"
   ]
  },
  {
   "cell_type": "code",
   "execution_count": 52,
   "metadata": {
    "ExecuteTime": {
     "end_time": "2019-03-05T17:34:58.362104Z",
     "start_time": "2019-03-05T17:34:58.356308Z"
    }
   },
   "outputs": [],
   "source": [
    "params = {\n",
    "    'scale_pos_weight':1,\n",
    "    'seed':26,\n",
    "    'eta': 0.1,\n",
    "    'max_depth': 5,\n",
    "    'subsample': 0.6,\n",
    "    'colsample_bytree': 0.7,\n",
    "    'gamma': 0,\n",
    "    'lambda': 0,\n",
    "    'alpha': 0,\n",
    "    'min_child_weight': 1,\n",
    "    \n",
    "    'eval_metric': 'auc',\n",
    "    'objective': 'binary:logistic' ,\n",
    "    'booster': 'gbtree',\n",
    "    'njobs': -1,\n",
    "    'tree_method': 'approx'\n",
    "}"
   ]
  },
  {
   "cell_type": "code",
   "execution_count": 8,
   "metadata": {
    "ExecuteTime": {
     "end_time": "2019-03-05T17:35:41.272300Z",
     "start_time": "2019-03-05T17:34:58.363622Z"
    }
   },
   "outputs": [
    {
     "data": {
      "application/vnd.jupyter.widget-view+json": {
       "model_id": "c87d5d35bdbf46bd9ed10c33f5017ef7",
       "version_major": 2,
       "version_minor": 0
      },
      "text/plain": [
       "HBox(children=(FloatProgress(value=0.0, description='Progress:', max=8400.0, style=ProgressStyle(description_w…"
      ]
     },
     "metadata": {},
     "output_type": "display_data"
    },
    {
     "name": "stdout",
     "output_type": "stream",
     "text": [
      "\n"
     ]
    },
    {
     "data": {
      "application/vnd.jupyter.widget-view+json": {
       "model_id": "14b2ee6e8920403a855076c8faecff07",
       "version_major": 2,
       "version_minor": 0
      },
      "text/plain": [
       "HBox(children=(FloatProgress(value=0.0, description='Progress:', max=3600.0, style=ProgressStyle(description_w…"
      ]
     },
     "metadata": {},
     "output_type": "display_data"
    },
    {
     "name": "stdout",
     "output_type": "stream",
     "text": [
      "\n"
     ]
    }
   ],
   "source": [
    "tqdm_notebook.pandas(desc=\"Progress:\")\n",
    "\n",
    "def features_creation_basic(x): \n",
    "    features = []\n",
    "    features.append(pd.Series(x[x['amount']>0]['amount'].agg(['min', 'max', 'mean', 'median', 'std', 'count'])\\\n",
    "                                                        .add_prefix('positive_transactions_')))\n",
    "    features.append(pd.Series(x[x['amount']<0]['amount'].agg(['min', 'max', 'mean', 'median', 'std', 'count'])\\\n",
    "                                                        .add_prefix('negative_transactions_')))\n",
    " \n",
    "    return pd.concat(features)\n",
    "\n",
    "data_train = transactions_train.groupby(transactions_train.index).progress_apply(features_creation_basic)\n",
    "data_test = transactions_test.groupby(transactions_test.index).progress_apply(features_creation_basic)"
   ]
  },
  {
   "cell_type": "code",
   "execution_count": 21,
   "metadata": {},
   "outputs": [],
   "source": [
    "cv = StratifiedKFold(n_splits=5, shuffle=True, random_state=1)\n"
   ]
  },
  {
   "cell_type": "code",
   "execution_count": 173,
   "metadata": {},
   "outputs": [
    {
     "name": "stdout",
     "output_type": "stream",
     "text": [
      "0.5935714285714285 {'n_neighbors': 44}\n"
     ]
    }
   ],
   "source": [
    "alg_ngbh = KNeighborsClassifier(n_neighbors=131, n_jobs=-1)\n",
    "scores = cross_val_score(alg_ngbh, data_train.fillna(0).to_numpy(dtype='float32'), target, cv=cv, n_jobs=-1)\n",
    "alg_ngbh.fit(data_train.fillna(0).to_numpy(dtype='float32'), target)\n",
    "knn_res = alg_ngbh.predict_proba(data_train.fillna(0).to_numpy(dtype='float32'))\n",
    "\n",
    "param_grid = {'n_neighbors':np.arange(1,150)}\n",
    "knn_cv= GridSearchCV(alg_ngbh,param_grid,cv=5)\n",
    "knn_cv.fit(data_train.fillna(0).to_numpy(dtype='float32'), target)\n",
    "print(knn_cv.best_score_, knn_cv.best_params_)"
   ]
  },
  {
   "cell_type": "code",
   "execution_count": 53,
   "metadata": {
    "ExecuteTime": {
     "end_time": "2019-03-05T17:35:45.011046Z",
     "start_time": "2019-03-05T17:35:41.273326Z"
    }
   },
   "outputs": [
    {
     "name": "stdout",
     "output_type": "stream",
     "text": [
      "[10:28:28] WARNING: C:\\Users\\Administrator\\workspace\\xgboost-win64_release_1.1.0\\src\\learner.cc:480: \n",
      "Parameters: { njobs } might not be used.\n",
      "\n",
      "  This may not be accurate due to some parameters are only used in language bindings but\n",
      "  passed down to XGBoost core.  Or some parameters are not used but slip through this\n",
      "  verification. Please open an issue if you find above cases.\n",
      "\n",
      "\n",
      "[10:28:28] WARNING: C:\\Users\\Administrator\\workspace\\xgboost-win64_release_1.1.0\\src\\learner.cc:480: \n",
      "Parameters: { njobs } might not be used.\n",
      "\n",
      "  This may not be accurate due to some parameters are only used in language bindings but\n",
      "  passed down to XGBoost core.  Or some parameters are not used but slip through this\n",
      "  verification. Please open an issue if you find above cases.\n",
      "\n",
      "\n",
      "[10:28:28] WARNING: C:\\Users\\Administrator\\workspace\\xgboost-win64_release_1.1.0\\src\\learner.cc:480: \n",
      "Parameters: { njobs } might not be used.\n",
      "\n",
      "  This may not be accurate due to some parameters are only used in language bindings but\n",
      "  passed down to XGBoost core.  Or some parameters are not used but slip through this\n",
      "  verification. Please open an issue if you find above cases.\n",
      "\n",
      "\n",
      "[10:28:28] WARNING: C:\\Users\\Administrator\\workspace\\xgboost-win64_release_1.1.0\\src\\learner.cc:480: \n",
      "Parameters: { njobs } might not be used.\n",
      "\n",
      "  This may not be accurate due to some parameters are only used in language bindings but\n",
      "  passed down to XGBoost core.  Or some parameters are not used but slip through this\n",
      "  verification. Please open an issue if you find above cases.\n",
      "\n",
      "\n",
      "[10:28:28] WARNING: C:\\Users\\Administrator\\workspace\\xgboost-win64_release_1.1.0\\src\\learner.cc:480: \n",
      "Parameters: { njobs } might not be used.\n",
      "\n",
      "  This may not be accurate due to some parameters are only used in language bindings but\n",
      "  passed down to XGBoost core.  Or some parameters are not used but slip through this\n",
      "  verification. Please open an issue if you find above cases.\n",
      "\n",
      "\n",
      "Cross-validation, ROC AUC: 0.870+-0.008, Trees: 113\n"
     ]
    }
   ],
   "source": [
    "target = data_train.join(gender_train, how='inner')['gender']\n",
    "cv_score(params, data_train, target)"
   ]
  },
  {
   "cell_type": "code",
   "execution_count": 55,
   "metadata": {
    "ExecuteTime": {
     "end_time": "2019-03-05T17:35:45.714620Z",
     "start_time": "2019-03-05T17:35:45.018570Z"
    }
   },
   "outputs": [
    {
     "name": "stdout",
     "output_type": "stream",
     "text": [
      "[10:42:22] WARNING: C:\\Users\\Administrator\\workspace\\xgboost-win64_release_1.1.0\\src\\learner.cc:480: \n",
      "Parameters: { njobs } might not be used.\n",
      "\n",
      "  This may not be accurate due to some parameters are only used in language bindings but\n",
      "  passed down to XGBoost core.  Or some parameters are not used but slip through this\n",
      "  verification. Please open an issue if you find above cases.\n",
      "\n",
      "\n"
     ]
    }
   ],
   "source": [
    "### Число деревьев для XGBoost имеет смысл выставлять по результатам на кросс-валидации \n",
    "clf, submission = fit_predict(params, 113, data_train, data_test, target)"
   ]
  },
  {
   "cell_type": "code",
   "execution_count": 56,
   "metadata": {},
   "outputs": [],
   "source": [
    "submission.to_csv('data/новыйфайл.csv')"
   ]
  },
  {
   "cell_type": "markdown",
   "metadata": {},
   "source": [
    "Добавим дополнительные переменные по каждому пользователю в модель.\n",
    "Для этого будем анализировать дни недели, часы и состояние дня/ночи во время покупки - в каждом из случаев будем считать частоту транзакций в соответствующей категории относитеьно всех остальных категорий."
   ]
  },
  {
   "cell_type": "code",
   "execution_count": 9,
   "metadata": {},
   "outputs": [],
   "source": [
    "import datetime as dt\n",
    "def day_to_month(day):\n",
    "    return str((dt.datetime(2000, 1, 1) + dt.timedelta(int(day) - 1)).month)"
   ]
  },
  {
   "cell_type": "code",
   "execution_count": 10,
   "metadata": {},
   "outputs": [
    {
     "data": {
      "text/plain": [
       "'4'"
      ]
     },
     "execution_count": 10,
     "metadata": {},
     "output_type": "execute_result"
    }
   ],
   "source": [
    "day_to_month(100)"
   ]
  },
  {
   "cell_type": "code",
   "execution_count": 25,
   "metadata": {
    "ExecuteTime": {
     "end_time": "2019-03-05T17:35:57.677748Z",
     "start_time": "2019-03-05T17:35:45.921444Z"
    }
   },
   "outputs": [],
   "source": [
    "for df in [transactions_train, transactions_test]:\n",
    "    df['day'] = df['tr_datetime'].str.split().apply(lambda x: int(x[0]) % 7)\n",
    "    df['hour'] = df['tr_datetime'].apply(lambda x: re.search(' \\d*', x).group(0)).astype(int)\n",
    "    df['night'] = ~df['hour'].between(6, 22).astype(int)\n",
    "    df['month'] = df['tr_datetime'].str.split().apply(lambda x: day_to_month(int(x[0])))"
   ]
  },
  {
   "cell_type": "code",
   "execution_count": 38,
   "metadata": {
    "ExecuteTime": {
     "end_time": "2019-03-05T17:35:57.687397Z",
     "start_time": "2019-03-05T17:35:57.678823Z"
    }
   },
   "outputs": [],
   "source": [
    "def features_creation_advanced(x): \n",
    "    features = []\n",
    "    features.append(pd.Series(x['mcc_code'].value_counts(normalize=True).add_prefix('mmc_')))\n",
    "    features.append(pd.Series(x['day'].value_counts(normalize=True).add_prefix('day_')))\n",
    "    features.append(pd.Series(x['month'].value_counts(normalize=True).add_prefix('month_')))\n",
    "    features.append(pd.Series(x['hour'].value_counts(normalize=True).add_prefix('hour_')))\n",
    "    features.append(pd.Series(x['night'].value_counts(normalize=True).add_prefix('night_')))\n",
    "    features.append(pd.Series(x[x['amount']>0]['amount'].agg(['max', 'mean', 'count'])\\\n",
    "                                                        .add_prefix('positive_transactions_')))\n",
    "    features.append(pd.Series(x[x['amount']<0]['amount'].agg(['max', 'mean', 'count'])\\\n",
    "                                                        .add_prefix('negative_transactions_')))\n",
    "    \n",
    "    for month in range(1,13):\n",
    "        features.append(pd.Series(x[(x['amount']<0) & (x['month']==month)]['amount'].agg(['sum','median'])\\\n",
    "                                                        .add_prefix(str(month)+'negative_transactions_in'+'_')))\n",
    "    #features.append(pd.Series(x['day'].value_counts(normalize=True).add_prefix('day_')))\n",
    "    return pd.concat(features)"
   ]
  },
  {
   "cell_type": "code",
   "execution_count": 39,
   "metadata": {
    "ExecuteTime": {
     "end_time": "2019-03-05T17:37:19.784321Z",
     "start_time": "2019-03-05T17:35:57.688448Z"
    },
    "scrolled": true
   },
   "outputs": [
    {
     "data": {
      "application/vnd.jupyter.widget-view+json": {
       "model_id": "e27df97ade3b4cc99ae41ad3fa34f2a2",
       "version_major": 2,
       "version_minor": 0
      },
      "text/plain": [
       "HBox(children=(FloatProgress(value=0.0, description='Progress:', max=8400.0, style=ProgressStyle(description_w…"
      ]
     },
     "metadata": {},
     "output_type": "display_data"
    },
    {
     "name": "stdout",
     "output_type": "stream",
     "text": [
      "\n"
     ]
    },
    {
     "data": {
      "application/vnd.jupyter.widget-view+json": {
       "model_id": "1eac605808dd4acf91074eaed4fcf435",
       "version_major": 2,
       "version_minor": 0
      },
      "text/plain": [
       "HBox(children=(FloatProgress(value=0.0, description='Progress:', max=3600.0, style=ProgressStyle(description_w…"
      ]
     },
     "metadata": {},
     "output_type": "display_data"
    },
    {
     "name": "stdout",
     "output_type": "stream",
     "text": [
      "\n"
     ]
    }
   ],
   "source": [
    "data_train = transactions_train.groupby(transactions_train.index)\\\n",
    "                               .progress_apply(features_creation_advanced).unstack(-1)\n",
    "data_test = transactions_test.groupby(transactions_test.index)\\\n",
    "                             .progress_apply(features_creation_advanced).unstack(-1)"
   ]
  },
  {
   "cell_type": "code",
   "execution_count": 40,
   "metadata": {},
   "outputs": [],
   "source": [
    "target = data_train.join(gender_train, how='inner')['gender']"
   ]
  },
  {
   "cell_type": "code",
   "execution_count": 41,
   "metadata": {
    "ExecuteTime": {
     "end_time": "2019-03-05T17:37:27.200528Z",
     "start_time": "2019-03-05T17:37:19.785535Z"
    }
   },
   "outputs": [
    {
     "name": "stdout",
     "output_type": "stream",
     "text": [
      "[10:03:39] WARNING: C:\\Users\\Administrator\\workspace\\xgboost-win64_release_1.1.0\\src\\learner.cc:480: \n",
      "Parameters: { njobs } might not be used.\n",
      "\n",
      "  This may not be accurate due to some parameters are only used in language bindings but\n",
      "  passed down to XGBoost core.  Or some parameters are not used but slip through this\n",
      "  verification. Please open an issue if you find above cases.\n",
      "\n",
      "\n",
      "[10:03:39] WARNING: C:\\Users\\Administrator\\workspace\\xgboost-win64_release_1.1.0\\src\\learner.cc:480: \n",
      "Parameters: { njobs } might not be used.\n",
      "\n",
      "  This may not be accurate due to some parameters are only used in language bindings but\n",
      "  passed down to XGBoost core.  Or some parameters are not used but slip through this\n",
      "  verification. Please open an issue if you find above cases.\n",
      "\n",
      "\n",
      "[10:03:39] WARNING: C:\\Users\\Administrator\\workspace\\xgboost-win64_release_1.1.0\\src\\learner.cc:480: \n",
      "Parameters: { njobs } might not be used.\n",
      "\n",
      "  This may not be accurate due to some parameters are only used in language bindings but\n",
      "  passed down to XGBoost core.  Or some parameters are not used but slip through this\n",
      "  verification. Please open an issue if you find above cases.\n",
      "\n",
      "\n",
      "[10:03:39] WARNING: C:\\Users\\Administrator\\workspace\\xgboost-win64_release_1.1.0\\src\\learner.cc:480: \n",
      "Parameters: { njobs } might not be used.\n",
      "\n",
      "  This may not be accurate due to some parameters are only used in language bindings but\n",
      "  passed down to XGBoost core.  Or some parameters are not used but slip through this\n",
      "  verification. Please open an issue if you find above cases.\n",
      "\n",
      "\n",
      "[10:03:39] WARNING: C:\\Users\\Administrator\\workspace\\xgboost-win64_release_1.1.0\\src\\learner.cc:480: \n",
      "Parameters: { njobs } might not be used.\n",
      "\n",
      "  This may not be accurate due to some parameters are only used in language bindings but\n",
      "  passed down to XGBoost core.  Or some parameters are not used but slip through this\n",
      "  verification. Please open an issue if you find above cases.\n",
      "\n",
      "\n",
      "Cross-validation, ROC AUC: 0.878+-0.007, Trees: 524\n"
     ]
    }
   ],
   "source": [
    "cv_score(params, data_train, target)"
   ]
  },
  {
   "cell_type": "code",
   "execution_count": 42,
   "metadata": {
    "ExecuteTime": {
     "end_time": "2019-03-05T17:37:28.307548Z",
     "start_time": "2019-03-05T17:37:27.205214Z"
    }
   },
   "outputs": [
    {
     "name": "stdout",
     "output_type": "stream",
     "text": [
      "[10:05:38] WARNING: C:\\Users\\Administrator\\workspace\\xgboost-win64_release_1.1.0\\src\\learner.cc:480: \n",
      "Parameters: { njobs } might not be used.\n",
      "\n",
      "  This may not be accurate due to some parameters are only used in language bindings but\n",
      "  passed down to XGBoost core.  Or some parameters are not used but slip through this\n",
      "  verification. Please open an issue if you find above cases.\n",
      "\n",
      "\n"
     ]
    }
   ],
   "source": [
    "### Число деревьев для XGBoost имеет смысл выятавлять по результатам на кросс-валидации \n",
    "clf, submission = fit_predict(params, 524, data_train, data_test, target)"
   ]
  },
  {
   "cell_type": "code",
   "execution_count": 43,
   "metadata": {
    "ExecuteTime": {
     "end_time": "2019-03-05T17:37:28.426836Z",
     "start_time": "2019-03-05T17:37:28.308620Z"
    },
    "scrolled": false
   },
   "outputs": [
    {
     "data": {
      "image/png": "[encoded data removed]",
      "text/plain": [
       "<Figure size 720x720 with 1 Axes>"
      ]
     },
     "metadata": {
      "needs_background": "light"
     },
     "output_type": "display_data"
    }
   ],
   "source": [
    "draw_feature_importances(clf, 20)"
   ]
  },
  {
   "cell_type": "code",
   "execution_count": 44,
   "metadata": {
    "ExecuteTime": {
     "end_time": "2019-03-05T17:37:28.448839Z",
     "start_time": "2019-03-05T17:37:28.438234Z"
    }
   },
   "outputs": [],
   "source": [
    "submission.to_csv('data/secondtry.csv')\n"
   ]
  },
  {
   "cell_type": "code",
   "execution_count": 45,
   "metadata": {},
   "outputs": [],
   "source": [
    "def modelfit(alg, X, y,useTrainCV=True, cv_folds=5, early_stopping_rounds=50):\n",
    "    \n",
    "    if useTrainCV:\n",
    "        xgb_param = alg.get_xgb_params()\n",
    "        xgtrain = xgb.DMatrix(X, label=y)\n",
    "        cvresult = xgb.cv(xgb_param, xgtrain, num_boost_round=alg.get_params()['n_estimators'], nfold=cv_folds,\n",
    "            metrics='auc', early_stopping_rounds=early_stopping_rounds, verbose_eval=True)\n",
    "        alg.set_params(n_estimators=cvresult.shape[0])\n",
    "    \n",
    "    #Fit the algorithm on the data\n",
    "    alg.fit(X, y,eval_metric='auc')\n",
    "    \n",
    "    #Predict training set:\n",
    "    dtrain_predictions = alg.predict(X)\n",
    "    dtrain_predprob = alg.predict_proba(X)[:,1]\n",
    "        \n",
    "    #Print model report:\n",
    "    print (\"\\nModel Report\")\n",
    "    print (\"Accuracy : %.4g\" % metrics.accuracy_score(y, dtrain_predictions))\n",
    "    print (\"AUC Score (Train): %f\" % metrics.roc_auc_score(y, dtrain_predprob))\n",
    "                    \n",
    "    return alg"
   ]
  },
  {
   "cell_type": "code",
   "execution_count": 46,
   "metadata": {},
   "outputs": [
    {
     "name": "stdout",
     "output_type": "stream",
     "text": [
      "[0]\ttrain-auc:0.78529+0.00355\ttest-auc:0.75130+0.00649\n",
      "[1]\ttrain-auc:0.82047+0.00388\ttest-auc:0.77646+0.01075\n",
      "[2]\ttrain-auc:0.83562+0.00407\ttest-auc:0.79170+0.00689\n",
      "[3]\ttrain-auc:0.84577+0.00353\ttest-auc:0.79906+0.00874\n",
      "[4]\ttrain-auc:0.85447+0.00290\ttest-auc:0.80790+0.01007\n",
      "[5]\ttrain-auc:0.86037+0.00290\ttest-auc:0.81384+0.00900\n",
      "[6]\ttrain-auc:0.86486+0.00286\ttest-auc:0.81805+0.00849\n",
      "[7]\ttrain-auc:0.86904+0.00239\ttest-auc:0.82004+0.00865\n",
      "[8]\ttrain-auc:0.87271+0.00212\ttest-auc:0.82286+0.00911\n",
      "[9]\ttrain-auc:0.87584+0.00174\ttest-auc:0.82580+0.00912\n",
      "[10]\ttrain-auc:0.87853+0.00155\ttest-auc:0.82828+0.00824\n",
      "[11]\ttrain-auc:0.88122+0.00209\ttest-auc:0.83059+0.00845\n",
      "[12]\ttrain-auc:0.88454+0.00262\ttest-auc:0.83184+0.00918\n",
      "[13]\ttrain-auc:0.88738+0.00221\ttest-auc:0.83351+0.00960\n",
      "[14]\ttrain-auc:0.89023+0.00277\ttest-auc:0.83604+0.00930\n",
      "[15]\ttrain-auc:0.89243+0.00286\ttest-auc:0.83687+0.00887\n",
      "[16]\ttrain-auc:0.89502+0.00230\ttest-auc:0.83754+0.00860\n",
      "[17]\ttrain-auc:0.89704+0.00190\ttest-auc:0.83846+0.00828\n",
      "[18]\ttrain-auc:0.89900+0.00182\ttest-auc:0.83976+0.00791\n",
      "[19]\ttrain-auc:0.90092+0.00160\ttest-auc:0.84106+0.00760\n",
      "[20]\ttrain-auc:0.90369+0.00133\ttest-auc:0.84258+0.00748\n",
      "[21]\ttrain-auc:0.90562+0.00144\ttest-auc:0.84406+0.00770\n",
      "[22]\ttrain-auc:0.90720+0.00155\ttest-auc:0.84496+0.00723\n",
      "[23]\ttrain-auc:0.90912+0.00131\ttest-auc:0.84569+0.00715\n",
      "[24]\ttrain-auc:0.91061+0.00112\ttest-auc:0.84669+0.00731\n",
      "[25]\ttrain-auc:0.91238+0.00108\ttest-auc:0.84748+0.00721\n",
      "[26]\ttrain-auc:0.91433+0.00131\ttest-auc:0.84906+0.00672\n",
      "[27]\ttrain-auc:0.91596+0.00121\ttest-auc:0.85023+0.00674\n",
      "[28]\ttrain-auc:0.91781+0.00099\ttest-auc:0.85127+0.00608\n",
      "[29]\ttrain-auc:0.91967+0.00133\ttest-auc:0.85221+0.00575\n",
      "[30]\ttrain-auc:0.92187+0.00148\ttest-auc:0.85329+0.00523\n",
      "[31]\ttrain-auc:0.92351+0.00149\ttest-auc:0.85442+0.00527\n",
      "[32]\ttrain-auc:0.92498+0.00175\ttest-auc:0.85530+0.00546\n",
      "[33]\ttrain-auc:0.92636+0.00173\ttest-auc:0.85599+0.00578\n",
      "[34]\ttrain-auc:0.92807+0.00186\ttest-auc:0.85661+0.00613\n",
      "[35]\ttrain-auc:0.92945+0.00189\ttest-auc:0.85725+0.00602\n",
      "[36]\ttrain-auc:0.93058+0.00191\ttest-auc:0.85813+0.00588\n",
      "[37]\ttrain-auc:0.93205+0.00179\ttest-auc:0.85813+0.00615\n",
      "[38]\ttrain-auc:0.93377+0.00160\ttest-auc:0.85883+0.00577\n",
      "[39]\ttrain-auc:0.93476+0.00147\ttest-auc:0.85934+0.00560\n",
      "[40]\ttrain-auc:0.93640+0.00168\ttest-auc:0.85962+0.00591\n",
      "[41]\ttrain-auc:0.93769+0.00161\ttest-auc:0.86016+0.00578\n",
      "[42]\ttrain-auc:0.93877+0.00180\ttest-auc:0.86084+0.00591\n",
      "[43]\ttrain-auc:0.93968+0.00195\ttest-auc:0.86130+0.00580\n",
      "[44]\ttrain-auc:0.94063+0.00195\ttest-auc:0.86209+0.00614\n",
      "[45]\ttrain-auc:0.94189+0.00195\ttest-auc:0.86227+0.00643\n",
      "[46]\ttrain-auc:0.94276+0.00170\ttest-auc:0.86253+0.00606\n",
      "[47]\ttrain-auc:0.94389+0.00162\ttest-auc:0.86330+0.00612\n",
      "[48]\ttrain-auc:0.94478+0.00205\ttest-auc:0.86374+0.00628\n",
      "[49]\ttrain-auc:0.94542+0.00195\ttest-auc:0.86412+0.00611\n",
      "[50]\ttrain-auc:0.94621+0.00185\ttest-auc:0.86453+0.00575\n",
      "[51]\ttrain-auc:0.94695+0.00189\ttest-auc:0.86518+0.00586\n",
      "[52]\ttrain-auc:0.94769+0.00191\ttest-auc:0.86540+0.00565\n",
      "[53]\ttrain-auc:0.94847+0.00191\ttest-auc:0.86561+0.00551\n",
      "[54]\ttrain-auc:0.94944+0.00186\ttest-auc:0.86604+0.00545\n",
      "[55]\ttrain-auc:0.95056+0.00191\ttest-auc:0.86626+0.00583\n",
      "[56]\ttrain-auc:0.95136+0.00199\ttest-auc:0.86658+0.00598\n",
      "[57]\ttrain-auc:0.95208+0.00205\ttest-auc:0.86689+0.00608\n",
      "[58]\ttrain-auc:0.95272+0.00211\ttest-auc:0.86687+0.00607\n",
      "[59]\ttrain-auc:0.95340+0.00211\ttest-auc:0.86713+0.00611\n",
      "[60]\ttrain-auc:0.95403+0.00201\ttest-auc:0.86733+0.00598\n",
      "[61]\ttrain-auc:0.95467+0.00197\ttest-auc:0.86733+0.00601\n",
      "[62]\ttrain-auc:0.95534+0.00198\ttest-auc:0.86776+0.00598\n",
      "[63]\ttrain-auc:0.95590+0.00205\ttest-auc:0.86785+0.00572\n",
      "[64]\ttrain-auc:0.95671+0.00203\ttest-auc:0.86806+0.00581\n",
      "[65]\ttrain-auc:0.95746+0.00212\ttest-auc:0.86812+0.00599\n",
      "[66]\ttrain-auc:0.95797+0.00207\ttest-auc:0.86842+0.00589\n",
      "[67]\ttrain-auc:0.95853+0.00215\ttest-auc:0.86875+0.00602\n",
      "[68]\ttrain-auc:0.95930+0.00220\ttest-auc:0.86912+0.00604\n",
      "[69]\ttrain-auc:0.95999+0.00233\ttest-auc:0.86948+0.00639\n",
      "[70]\ttrain-auc:0.96055+0.00224\ttest-auc:0.86973+0.00642\n",
      "[71]\ttrain-auc:0.96121+0.00237\ttest-auc:0.86993+0.00642\n",
      "[72]\ttrain-auc:0.96161+0.00235\ttest-auc:0.87028+0.00656\n",
      "[73]\ttrain-auc:0.96224+0.00226\ttest-auc:0.87031+0.00645\n",
      "[74]\ttrain-auc:0.96293+0.00230\ttest-auc:0.87034+0.00614\n",
      "[75]\ttrain-auc:0.96365+0.00220\ttest-auc:0.87077+0.00604\n",
      "[76]\ttrain-auc:0.96412+0.00228\ttest-auc:0.87090+0.00623\n",
      "[77]\ttrain-auc:0.96458+0.00216\ttest-auc:0.87092+0.00617\n",
      "[78]\ttrain-auc:0.96494+0.00217\ttest-auc:0.87117+0.00602\n",
      "[79]\ttrain-auc:0.96549+0.00214\ttest-auc:0.87104+0.00618\n",
      "[80]\ttrain-auc:0.96598+0.00191\ttest-auc:0.87111+0.00630\n",
      "[81]\ttrain-auc:0.96651+0.00183\ttest-auc:0.87114+0.00653\n",
      "[82]\ttrain-auc:0.96699+0.00167\ttest-auc:0.87125+0.00633\n",
      "[83]\ttrain-auc:0.96752+0.00147\ttest-auc:0.87137+0.00615\n",
      "[84]\ttrain-auc:0.96779+0.00142\ttest-auc:0.87144+0.00612\n",
      "[85]\ttrain-auc:0.96824+0.00142\ttest-auc:0.87133+0.00624\n",
      "[86]\ttrain-auc:0.96868+0.00143\ttest-auc:0.87159+0.00616\n",
      "[87]\ttrain-auc:0.96918+0.00158\ttest-auc:0.87172+0.00635\n",
      "[88]\ttrain-auc:0.96962+0.00145\ttest-auc:0.87173+0.00605\n",
      "[89]\ttrain-auc:0.96999+0.00138\ttest-auc:0.87184+0.00590\n",
      "[90]\ttrain-auc:0.97051+0.00142\ttest-auc:0.87185+0.00564\n",
      "[91]\ttrain-auc:0.97099+0.00153\ttest-auc:0.87197+0.00576\n",
      "[92]\ttrain-auc:0.97138+0.00153\ttest-auc:0.87198+0.00581\n",
      "[93]\ttrain-auc:0.97173+0.00156\ttest-auc:0.87203+0.00566\n",
      "[94]\ttrain-auc:0.97228+0.00148\ttest-auc:0.87194+0.00548\n",
      "[95]\ttrain-auc:0.97282+0.00153\ttest-auc:0.87217+0.00549\n",
      "[96]\ttrain-auc:0.97313+0.00161\ttest-auc:0.87195+0.00567\n",
      "[97]\ttrain-auc:0.97344+0.00173\ttest-auc:0.87207+0.00567\n",
      "[98]\ttrain-auc:0.97391+0.00180\ttest-auc:0.87192+0.00565\n",
      "[99]\ttrain-auc:0.97433+0.00182\ttest-auc:0.87197+0.00555\n",
      "[100]\ttrain-auc:0.97465+0.00180\ttest-auc:0.87203+0.00546\n",
      "[101]\ttrain-auc:0.97500+0.00182\ttest-auc:0.87189+0.00556\n",
      "[102]\ttrain-auc:0.97536+0.00171\ttest-auc:0.87201+0.00550\n",
      "[103]\ttrain-auc:0.97564+0.00163\ttest-auc:0.87206+0.00548\n",
      "[104]\ttrain-auc:0.97588+0.00166\ttest-auc:0.87201+0.00547\n",
      "[105]\ttrain-auc:0.97612+0.00160\ttest-auc:0.87212+0.00552\n",
      "[106]\ttrain-auc:0.97658+0.00156\ttest-auc:0.87226+0.00525\n",
      "[107]\ttrain-auc:0.97692+0.00172\ttest-auc:0.87252+0.00515\n",
      "[108]\ttrain-auc:0.97727+0.00186\ttest-auc:0.87255+0.00532\n",
      "[109]\ttrain-auc:0.97759+0.00176\ttest-auc:0.87264+0.00528\n",
      "[110]\ttrain-auc:0.97807+0.00173\ttest-auc:0.87257+0.00536\n",
      "[111]\ttrain-auc:0.97852+0.00165\ttest-auc:0.87270+0.00542\n",
      "[112]\ttrain-auc:0.97872+0.00162\ttest-auc:0.87271+0.00550\n",
      "[113]\ttrain-auc:0.97903+0.00161\ttest-auc:0.87259+0.00541\n",
      "[114]\ttrain-auc:0.97928+0.00153\ttest-auc:0.87264+0.00539\n",
      "[115]\ttrain-auc:0.97960+0.00145\ttest-auc:0.87278+0.00543\n",
      "[116]\ttrain-auc:0.97988+0.00137\ttest-auc:0.87270+0.00537\n",
      "[117]\ttrain-auc:0.98023+0.00126\ttest-auc:0.87274+0.00545\n",
      "[118]\ttrain-auc:0.98053+0.00124\ttest-auc:0.87283+0.00535\n",
      "[119]\ttrain-auc:0.98090+0.00122\ttest-auc:0.87279+0.00523\n",
      "[120]\ttrain-auc:0.98122+0.00135\ttest-auc:0.87287+0.00520\n",
      "[121]\ttrain-auc:0.98142+0.00136\ttest-auc:0.87292+0.00509\n",
      "[122]\ttrain-auc:0.98163+0.00147\ttest-auc:0.87305+0.00512\n",
      "[123]\ttrain-auc:0.98199+0.00147\ttest-auc:0.87310+0.00525\n",
      "[124]\ttrain-auc:0.98227+0.00152\ttest-auc:0.87292+0.00536\n",
      "[125]\ttrain-auc:0.98252+0.00157\ttest-auc:0.87278+0.00532\n",
      "[126]\ttrain-auc:0.98288+0.00160\ttest-auc:0.87305+0.00534\n",
      "[127]\ttrain-auc:0.98323+0.00151\ttest-auc:0.87300+0.00535\n",
      "[128]\ttrain-auc:0.98351+0.00142\ttest-auc:0.87301+0.00535\n",
      "[129]\ttrain-auc:0.98395+0.00151\ttest-auc:0.87301+0.00531\n",
      "[130]\ttrain-auc:0.98423+0.00149\ttest-auc:0.87275+0.00518\n",
      "[131]\ttrain-auc:0.98453+0.00149\ttest-auc:0.87296+0.00520\n",
      "[132]\ttrain-auc:0.98472+0.00154\ttest-auc:0.87285+0.00516\n",
      "[133]\ttrain-auc:0.98500+0.00151\ttest-auc:0.87282+0.00504\n",
      "[134]\ttrain-auc:0.98514+0.00148\ttest-auc:0.87277+0.00509\n",
      "[135]\ttrain-auc:0.98539+0.00132\ttest-auc:0.87270+0.00506\n",
      "[136]\ttrain-auc:0.98566+0.00126\ttest-auc:0.87274+0.00503\n",
      "[137]\ttrain-auc:0.98591+0.00135\ttest-auc:0.87260+0.00508\n",
      "[138]\ttrain-auc:0.98620+0.00129\ttest-auc:0.87265+0.00496\n",
      "[139]\ttrain-auc:0.98641+0.00122\ttest-auc:0.87248+0.00512\n",
      "[140]\ttrain-auc:0.98657+0.00127\ttest-auc:0.87246+0.00507\n",
      "[141]\ttrain-auc:0.98673+0.00124\ttest-auc:0.87257+0.00510\n",
      "[142]\ttrain-auc:0.98696+0.00125\ttest-auc:0.87248+0.00505\n",
      "[143]\ttrain-auc:0.98719+0.00126\ttest-auc:0.87254+0.00510\n",
      "[144]\ttrain-auc:0.98733+0.00127\ttest-auc:0.87254+0.00518\n",
      "[145]\ttrain-auc:0.98747+0.00126\ttest-auc:0.87265+0.00515\n"
     ]
    },
    {
     "name": "stdout",
     "output_type": "stream",
     "text": [
      "[146]\ttrain-auc:0.98773+0.00119\ttest-auc:0.87265+0.00517\n",
      "[147]\ttrain-auc:0.98791+0.00119\ttest-auc:0.87267+0.00514\n",
      "[148]\ttrain-auc:0.98809+0.00123\ttest-auc:0.87272+0.00538\n",
      "[149]\ttrain-auc:0.98827+0.00118\ttest-auc:0.87252+0.00521\n",
      "[150]\ttrain-auc:0.98849+0.00124\ttest-auc:0.87273+0.00515\n",
      "[151]\ttrain-auc:0.98862+0.00125\ttest-auc:0.87280+0.00503\n",
      "[152]\ttrain-auc:0.98881+0.00113\ttest-auc:0.87285+0.00514\n",
      "[153]\ttrain-auc:0.98902+0.00117\ttest-auc:0.87277+0.00509\n",
      "[154]\ttrain-auc:0.98917+0.00112\ttest-auc:0.87278+0.00518\n",
      "[155]\ttrain-auc:0.98927+0.00109\ttest-auc:0.87282+0.00528\n",
      "[156]\ttrain-auc:0.98948+0.00117\ttest-auc:0.87287+0.00537\n",
      "[157]\ttrain-auc:0.98962+0.00120\ttest-auc:0.87295+0.00540\n",
      "[158]\ttrain-auc:0.98987+0.00116\ttest-auc:0.87287+0.00550\n",
      "[159]\ttrain-auc:0.99006+0.00114\ttest-auc:0.87279+0.00555\n",
      "[160]\ttrain-auc:0.99027+0.00115\ttest-auc:0.87286+0.00546\n",
      "[161]\ttrain-auc:0.99045+0.00118\ttest-auc:0.87301+0.00528\n",
      "[162]\ttrain-auc:0.99060+0.00118\ttest-auc:0.87305+0.00516\n",
      "[163]\ttrain-auc:0.99086+0.00114\ttest-auc:0.87286+0.00508\n",
      "[164]\ttrain-auc:0.99099+0.00116\ttest-auc:0.87283+0.00497\n",
      "[165]\ttrain-auc:0.99117+0.00111\ttest-auc:0.87283+0.00526\n",
      "[166]\ttrain-auc:0.99137+0.00111\ttest-auc:0.87275+0.00533\n",
      "[167]\ttrain-auc:0.99154+0.00110\ttest-auc:0.87257+0.00523\n",
      "[168]\ttrain-auc:0.99165+0.00112\ttest-auc:0.87267+0.00515\n",
      "[169]\ttrain-auc:0.99182+0.00112\ttest-auc:0.87287+0.00493\n",
      "[170]\ttrain-auc:0.99198+0.00115\ttest-auc:0.87283+0.00499\n",
      "[171]\ttrain-auc:0.99209+0.00114\ttest-auc:0.87284+0.00498\n",
      "[172]\ttrain-auc:0.99223+0.00117\ttest-auc:0.87262+0.00509\n",
      "\n",
      "Model Report\n",
      "Accuracy : 0.9146\n",
      "AUC Score (Train): 0.974725\n"
     ]
    }
   ],
   "source": [
    "xgb1 = XGBClassifier(\n",
    "    learning_rate =0.1,\n",
    "    n_estimators=1000,\n",
    "    max_depth=5,\n",
    "    min_child_weight=1,\n",
    "    gamma=0.0,\n",
    "    subsample=0.6,\n",
    "    colsample_bytree=0.7,\n",
    "    objective= 'binary:logistic',\n",
    "    nthread=4,\n",
    "    scale_pos_weight=1,\n",
    "    seed=26)\n",
    "    \n",
    "alg = modelfit(xgb1, data_train, target)"
   ]
  },
  {
   "cell_type": "code",
   "execution_count": 54,
   "metadata": {},
   "outputs": [
    {
     "data": {
      "text/plain": [
       "GridSearchCV(cv=5, error_score='raise-deprecating',\n",
       "       estimator=XGBClassifier(base_score=None, booster=None, colsample_bylevel=None,\n",
       "       colsample_bynode=None, colsample_bytree=0.8, gamma=0, gpu_id=None,\n",
       "       importance_type='gain', interaction_constraints=None,\n",
       "       learning_rate=0.1, max_delta_step=None, max_depth=5,\n",
       "       min_child_weight=1,...weight=1, seed=27, subsample=0.8,\n",
       "       tree_method=None, validate_parameters=None, verbosity=None),\n",
       "       fit_params=None, iid=False, n_jobs=-1,\n",
       "       param_grid={'max_depth': range(2, 10, 2), 'min_child_weight': range(1, 7, 2)},\n",
       "       pre_dispatch='2*n_jobs', refit=True, return_train_score='warn',\n",
       "       scoring='roc_auc', verbose=0)"
      ]
     },
     "execution_count": 54,
     "metadata": {},
     "output_type": "execute_result"
    }
   ],
   "source": [
    "param_test1 = {\n",
    " 'max_depth': range(2,10,2),\n",
    " 'min_child_weight': range(1,7,2)\n",
    "}\n",
    "gsearch1 = GridSearchCV(estimator = XGBClassifier(learning_rate =0.1, n_estimators=142, max_depth=5,\n",
    " min_child_weight=1, gamma=0, subsample=0.8, colsample_bytree=0.8,\n",
    " objective= 'binary:logistic', nthread=4, scale_pos_weight=1, seed=27), \n",
    " param_grid = param_test1, scoring='roc_auc',n_jobs=-1, iid=False, cv=5)\n",
    "gsearch1.fit(data_train, target)"
   ]
  },
  {
   "cell_type": "markdown",
   "metadata": {},
   "source": [
    "### gsearch1.best_params_, gsearch1.best_score_"
   ]
  },
  {
   "cell_type": "code",
   "execution_count": 128,
   "metadata": {},
   "outputs": [
    {
     "data": {
      "text/plain": [
       "GridSearchCV(cv=5, error_score='raise-deprecating',\n",
       "       estimator=XGBClassifier(base_score=None, booster=None, colsample_bylevel=None,\n",
       "       colsample_bynode=None, colsample_bytree=0.8, gamma=0, gpu_id=None,\n",
       "       importance_type='gain', interaction_constraints=None,\n",
       "       learning_rate=0.1, max_delta_step=None, max_depth=4,\n",
       "       min_child_weight=6,...weight=1, seed=27, subsample=0.8,\n",
       "       tree_method=None, validate_parameters=None, verbosity=None),\n",
       "       fit_params=None, iid=False, n_jobs=4,\n",
       "       param_grid={'gamma': array([0.09 , 0.092, 0.094, 0.096, 0.098, 0.1  , 0.102, 0.104, 0.106,\n",
       "       0.108, 0.11 ])},\n",
       "       pre_dispatch='2*n_jobs', refit=True, return_train_score='warn',\n",
       "       scoring='roc_auc', verbose=0)"
      ]
     },
     "execution_count": 128,
     "metadata": {},
     "output_type": "execute_result"
    }
   ],
   "source": [
    "param_test3 = {\n",
    "    'gamma':np.linspace(0.09, 0.11, 11)\n",
    "}\n",
    "gsearch3 = GridSearchCV(estimator = XGBClassifier( learning_rate =0.1, n_estimators=142, max_depth=4,\n",
    " min_child_weight=6, gamma=0, subsample=0.8, colsample_bytree=0.8,\n",
    " objective= 'binary:logistic', nthread=4, scale_pos_weight=1,seed=27), \n",
    " param_grid = param_test3, scoring='roc_auc',n_jobs=4,iid=False, cv=5)\n",
    "gsearch3.fit(data_train, target)"
   ]
  },
  {
   "cell_type": "code",
   "execution_count": 125,
   "metadata": {},
   "outputs": [
    {
     "data": {
      "text/plain": [
       "({'gamma': 0.09222222222222222}, 0.6140758903386234)"
      ]
     },
     "execution_count": 125,
     "metadata": {},
     "output_type": "execute_result"
    }
   ],
   "source": [
    "gsearch3.best_params_, gsearch3.best_score_#, gsearch3.cv_results_\n"
   ]
  },
  {
   "cell_type": "code",
   "execution_count": 126,
   "metadata": {},
   "outputs": [
    {
     "data": {
      "text/plain": [
       "({'colsample_bytree': 0.6, 'subsample': 0.7}, 0.6133431335502468)"
      ]
     },
     "execution_count": 126,
     "metadata": {},
     "output_type": "execute_result"
    }
   ],
   "source": [
    "param_test4 = {\n",
    " 'subsample':[i/10.0 for i in range(6,10)],\n",
    " 'colsample_bytree':[i/10.0 for i in range(6,10)]\n",
    "}\n",
    "gsearch4 = GridSearchCV(estimator = XGBClassifier( learning_rate =0.1, n_estimators=177, max_depth=4,\n",
    " min_child_weight=6, gamma=0, subsample=0.8, colsample_bytree=0.8,\n",
    " objective= 'binary:logistic', nthread=4, scale_pos_weight=1,seed=27), \n",
    " param_grid = param_test4, scoring='roc_auc',n_jobs=4,iid=False, cv=5)\n",
    "gsearch4.fit(data_train, target)\n",
    "gsearch4.best_params_, gsearch4.best_score_\n"
   ]
  },
  {
   "cell_type": "code",
   "execution_count": 305,
   "metadata": {},
   "outputs": [
    {
     "name": "stdout",
     "output_type": "stream",
     "text": [
      "0\n",
      "day_0\n",
      "day_1\n",
      "day_2\n",
      "day_3\n",
      "day_4\n",
      "day_5\n",
      "day_6\n",
      "hour_0\n",
      "hour_1\n",
      "hour_10\n",
      "hour_11\n",
      "hour_12\n",
      "hour_13\n",
      "hour_14\n",
      "hour_15\n",
      "hour_16\n",
      "hour_17\n",
      "hour_18\n",
      "hour_19\n",
      "hour_2\n",
      "hour_20\n",
      "hour_21\n",
      "hour_22\n",
      "hour_23\n",
      "hour_3\n",
      "hour_4\n",
      "hour_5\n",
      "hour_6\n",
      "hour_7\n",
      "hour_8\n",
      "hour_9\n",
      "month_1\n",
      "month_10\n",
      "month_11\n",
      "month_12\n",
      "month_2\n",
      "month_3\n",
      "month_4\n",
      "month_5\n",
      "month_6\n",
      "month_7\n",
      "month_8\n",
      "month_9\n",
      "negative_transactions_count\n",
      "negative_transactions_in10_count\n",
      "negative_transactions_in10_mean\n",
      "negative_transactions_in10_std\n",
      "negative_transactions_in10_sum\n",
      "negative_transactions_in11_count\n",
      "negative_transactions_in11_mean\n",
      "negative_transactions_in11_std\n",
      "negative_transactions_in11_sum\n",
      "negative_transactions_in12_count\n",
      "negative_transactions_in12_mean\n",
      "negative_transactions_in12_std\n",
      "negative_transactions_in12_sum\n",
      "negative_transactions_in1_count\n",
      "negative_transactions_in1_mean\n",
      "negative_transactions_in1_std\n",
      "negative_transactions_in1_sum\n",
      "negative_transactions_in2_count\n",
      "negative_transactions_in2_mean\n",
      "negative_transactions_in2_std\n",
      "negative_transactions_in2_sum\n",
      "negative_transactions_in3_count\n",
      "negative_transactions_in3_mean\n",
      "negative_transactions_in3_std\n",
      "negative_transactions_in3_sum\n",
      "negative_transactions_in4_count\n",
      "negative_transactions_in4_mean\n",
      "negative_transactions_in4_std\n",
      "negative_transactions_in4_sum\n",
      "negative_transactions_in5_count\n",
      "negative_transactions_in5_mean\n",
      "negative_transactions_in5_std\n",
      "negative_transactions_in5_sum\n",
      "negative_transactions_in6_count\n",
      "negative_transactions_in6_mean\n",
      "negative_transactions_in6_std\n",
      "negative_transactions_in6_sum\n",
      "negative_transactions_in7_count\n",
      "negative_transactions_in7_mean\n",
      "negative_transactions_in7_std\n",
      "negative_transactions_in7_sum\n",
      "negative_transactions_in8_count\n",
      "negative_transactions_in8_mean\n",
      "negative_transactions_in8_std\n",
      "negative_transactions_in8_sum\n",
      "negative_transactions_in9_count\n",
      "negative_transactions_in9_mean\n",
      "negative_transactions_in9_std\n",
      "negative_transactions_in9_sum\n",
      "negative_transactions_max\n",
      "negative_transactions_mean\n",
      "negative_transactions_median\n",
      "negative_transactions_min\n",
      "negative_transactions_std\n",
      "positive_transactions_count\n",
      "positive_transactions_max\n",
      "positive_transactions_mean\n",
      "positive_transactions_median\n",
      "positive_transactions_min\n",
      "positive_transactions_std\n"
     ]
    }
   ],
   "source": [
    "for key in data_train.keys(): print(key)"
   ]
  },
  {
   "cell_type": "code",
   "execution_count": 297,
   "metadata": {},
   "outputs": [
    {
     "data": {
      "text/plain": [
       "61"
      ]
     },
     "execution_count": 297,
     "metadata": {},
     "output_type": "execute_result"
    }
   ],
   "source": [
    "int(transactions_train.iloc[10][0].split()[0])"
   ]
  },
  {
   "cell_type": "code",
   "execution_count": 309,
   "metadata": {},
   "outputs": [],
   "source": [
    "del data_test, data_train"
   ]
  },
  {
   "cell_type": "code",
   "execution_count": 57,
   "metadata": {},
   "outputs": [
    {
     "data": {
      "text/plain": [
       "5050"
      ]
     },
     "execution_count": 57,
     "metadata": {},
     "output_type": "execute_result"
    }
   ],
   "source": [
    "sum(range(101))"
   ]
  },
  {
   "cell_type": "code",
   "execution_count": 58,
   "metadata": {},
   "outputs": [
    {
     "data": {
      "text/plain": [
       "[0, 0, 0]"
      ]
     },
     "execution_count": 58,
     "metadata": {},
     "output_type": "execute_result"
    }
   ],
   "source": [
    "def func(X):\n",
    "    return [x**3 - 6 * x ** 2 + 11 * x - 6 for x in X]\n",
    "func([1,2,3])"
   ]
  },
  {
   "cell_type": "code",
   "execution_count": 59,
   "metadata": {},
   "outputs": [
    {
     "data": {
      "text/plain": [
       "0"
      ]
     },
     "execution_count": 59,
     "metadata": {},
     "output_type": "execute_result"
    }
   ],
   "source": [
    "123456789 % 3"
   ]
  },
  {
   "cell_type": "code",
   "execution_count": 60,
   "metadata": {},
   "outputs": [
    {
     "data": {
      "text/plain": [
       "13.0"
      ]
     },
     "execution_count": 60,
     "metadata": {},
     "output_type": "execute_result"
    }
   ],
   "source": [
    "169/13"
   ]
  },
  {
   "cell_type": "code",
   "execution_count": 64,
   "metadata": {},
   "outputs": [
    {
     "data": {
      "text/plain": [
       "27799999.999999996"
      ]
     },
     "execution_count": 64,
     "metadata": {},
     "output_type": "execute_result"
    }
   ],
   "source": [
    "(57.80 - 30)*10e5"
   ]
  },
  {
   "cell_type": "code",
   "execution_count": null,
   "metadata": {},
   "outputs": [],
   "source": []
  }
 ],
 "metadata": {
  "hide_input": false,
  "kernelspec": {
   "name": "python36864bit305c25f1bfcf436e8b1c02befd33f07c",
   "display_name": "Python 3.6.8 64-bit"
  },
  "language_info": {
   "codemirror_mode": {
    "name": "ipython",
    "version": 3
   },
   "file_extension": ".py",
   "mimetype": "text/x-python",
   "name": "python",
   "nbconvert_exporter": "python",
   "pygments_lexer": "ipython3",
   "version": "3.6.8-final"
  },
  "varInspector": {
   "cols": {
    "lenName": 16,
    "lenType": 16,
    "lenVar": 40
   },
   "kernels_config": {
    "python": {
     "delete_cmd_postfix": "",
     "delete_cmd_prefix": "del ",
     "library": "var_list.py",
     "varRefreshCmd": "print(var_dic_list())"
    },
    "r": {
     "delete_cmd_postfix": ") ",
     "delete_cmd_prefix": "rm(",
     "library": "var_list.r",
     "varRefreshCmd": "cat(var_dic_list()) "
    }
   },
   "types_to_exclude": [
    "module",
    "function",
    "builtin_function_or_method",
    "instance",
    "_Feature"
   ],
   "window_display": false
  },
  "metadata": {
   "interpreter": {
    "hash": "4c65b98e956c6ae24f8ae0bc56d1e465ff92310dbdec0a4bd6b48ffdf1441c98"
   }
  }
 },
 "nbformat": 4,
 "nbformat_minor": 2
}